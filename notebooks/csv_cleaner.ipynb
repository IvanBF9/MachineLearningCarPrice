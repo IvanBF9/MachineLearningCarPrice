{
 "cells": [
  {
   "cell_type": "code",
   "execution_count": 152,
   "id": "7e1b39db",
   "metadata": {},
   "outputs": [],
   "source": [
    "import pandas as pd"
   ]
  },
  {
   "cell_type": "code",
   "execution_count": 153,
   "id": "a3ca0578",
   "metadata": {},
   "outputs": [
    {
     "data": {
      "text/plain": [
       "(8016, 9)"
      ]
     },
     "execution_count": 153,
     "metadata": {},
     "output_type": "execute_result"
    }
   ],
   "source": [
    "lacentral_df = pd.read_csv(\"../data/lacentrale-dev.csv\")\n",
    "lacentral_df.shape"
   ]
  },
  {
   "cell_type": "code",
   "execution_count": 154,
   "id": "061cc47e",
   "metadata": {},
   "outputs": [
    {
     "data": {
      "text/plain": [
       "(6035, 10)"
      ]
     },
     "execution_count": 154,
     "metadata": {},
     "output_type": "execute_result"
    }
   ],
   "source": [
    "duplicated_rows = lacentral_df[lacentral_df.duplicated()]\n",
    "lacentral_df.drop_duplicates(inplace=True)\n",
    "lacentral_df = lacentral_df.dropna()\n",
    "lacentral_df['brand'] = lacentral_df['model'].str.strip().str.split().str[0]\n",
    "lacentral_df['price'] = lacentral_df['price'].str.strip().str.extract(r'([0-9 ]+)')[0].str.replace(' ', '').astype('int')\n",
    "lacentral_df['price'] = lacentral_df[lacentral_df['price'] < 200000]['price']\n",
    "lacentral_df['horsepower'] = lacentral_df[lacentral_df['horsepower'] < 750]['horsepower']\n",
    "lacentral_df['kilometers'] = lacentral_df['kilometers'].str.strip().str.extract(r'([0-9 ]+)')[0].str.replace(' ', '').astype('int')\n",
    "lacentral_df['kilometers'] = lacentral_df[lacentral_df['kilometers'] < 350000]['kilometers']\n",
    "lacentral_df['energy'] = lacentral_df['energy'].replace(['Bicarburation essence bioéthanol', pd.NaT, 'Bicarburation essence / gpl'],'Autres')\n",
    "lacentral_df['energy'] = lacentral_df['energy'].replace({'Essence' : 0, 'Diesel' : 1, 'Hybrides' : 2, 'Électrique' : 3, 'Autres' : 4})\n",
    "lacentral_df['gear_box'] = lacentral_df['gear_box'].replace({'Automatique' : 0, 'Manuelle' : 1})\n",
    "lacentral_df['zip_code'] = lacentral_df['zip_code'].str.strip().str.extract(r'([0-9 ]+)')[0].str.replace(' ', '').astype('int')\n",
    "lacentral_df.shape"
   ]
  },
  {
   "cell_type": "code",
   "execution_count": 155,
   "id": "96f179c8",
   "metadata": {},
   "outputs": [],
   "source": [
    "lacentral_df.to_csv('../data/lacentrale-dev-clean.csv', index=False)"
   ]
  }
 ],
 "metadata": {
  "kernelspec": {
   "display_name": "Python 3 (ipykernel)",
   "language": "python",
   "name": "python3"
  },
  "language_info": {
   "codemirror_mode": {
    "name": "ipython",
    "version": 3
   },
   "file_extension": ".py",
   "mimetype": "text/x-python",
   "name": "python",
   "nbconvert_exporter": "python",
   "pygments_lexer": "ipython3",
   "version": "3.10.4"
  },
  "vscode": {
   "interpreter": {
    "hash": "85c576d62e5a69baba7dcae6282c7bf6fba6f8d537c9cbb11ca984aece3c77a0"
   }
  }
 },
 "nbformat": 4,
 "nbformat_minor": 5
}
