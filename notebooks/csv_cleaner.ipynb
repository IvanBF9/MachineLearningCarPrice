{
    "cells": [
     {
      "cell_type": "code",
      "execution_count": 8,
      "id": "7e1b39db",
      "metadata": {},
      "outputs": [],
      "source": [
       "import pandas as pd"
      ]
     },
     {
      "cell_type": "code",
      "execution_count": 9,
      "id": "a3ca0578",
      "metadata": {},
      "outputs": [
       {
        "data": {
         "text/plain": [
          "(1312, 26)"
         ]
        },
        "execution_count": 9,
        "metadata": {},
        "output_type": "execute_result"
       }
      ],
      "source": [
       "file_path = '../data/concat-csv.csv'\n",
       "lacentral_df = pd.read_csv(file_path, sep=';')\n",
       "lacentral_df.shape"
      ]
     },
     {
      "cell_type": "code",
      "execution_count": 11,
      "id": "061cc47e",
      "metadata": {},
      "outputs": [
       {
        "data": {
         "text/plain": [
          "(1136, 27)"
         ]
        },
        "execution_count": 11,
        "metadata": {},
        "output_type": "execute_result"
       }
      ],
      "source": [
       "lacentral_df['owners'] = lacentral_df['owners'].fillna(0)\n",
       "lacentral_df['internalColor'] = lacentral_df['internalColor'].fillna(0)\n",
       "lacentral_df['brand'] = lacentral_df['model'].str.strip().str.split().str[0]\n",
       "lacentral_df['price'] = lacentral_df['price'].str.strip().str.extract(r'([0-9 ]+)')[0].str.replace(' ', '').astype('int')\n",
       "lacentral_df['price'] = lacentral_df[lacentral_df['price'] < 200000]['price']\n",
       "lacentral_df['horsepower'] = lacentral_df[lacentral_df['horsepower'] < 750]['horsepower']\n",
       "lacentral_df['kilometers'] = lacentral_df['kilometers'].str.strip().str.extract(r'([0-9 ]+)')[0].str.replace(' ', '').astype('int')\n",
       "lacentral_df['kilometers'] = lacentral_df[lacentral_df['kilometers'] < 350000]['kilometers']\n",
       "lacentral_df['energy'] = lacentral_df['energy'].replace(['Bicarburation essence bioéthanol', pd.NaT, 'Bicarburation essence / gpl'],'Autres')\n",
       "lacentral_df['energy'] = lacentral_df['energy'].replace({'Essence' : 0, 'Diesel' : 1, 'Hybrides' : 2, 'Électrique' : 3, 'Autres' : 4})\n",
       "lacentral_df['gear_box'] = lacentral_df['gear_box'].replace({'Automatique' : 0, 'Manuelle' : 1})\n",
       "lacentral_df['zip_code'] = lacentral_df['zip_code'].str.strip().str.extract(r'([0-9 ]+)')[0].str.replace(' ', '').astype('int')\n",
       "lacentral_df.drop_duplicates(inplace=True)\n",
       "lacentral_df.dropna(inplace=True)\n",
       "lacentral_df.shape"
      ]
     },
     {
      "cell_type": "code",
      "execution_count": 12,
      "id": "127feee1",
      "metadata": {},
      "outputs": [
       {
        "name": "stdout",
        "output_type": "stream",
        "text": [
         "['PEUGEOT', 'CITROEN', 'RENAULT', 'MERCEDES', 'AUDI', 'BMW', 'VOLKSWAGEN', 'MINI', 'TOYOTA', 'FORD', 'DACIA', 'FIAT', 'HYUNDAI', 'OPEL', 'KIA', 'SKODA', 'PORSCHE', 'VOLVO', 'LAND', 'NISSAN', 'DS', 'HONDA', 'SEAT', 'JAGUAR', 'ALFA', 'MAZDA', 'JEEP', 'CUPRA', 'SUZUKI', 'LEXUS', 'SMART', 'SUBARU', 'ALPINE', 'MERCEDES-AMG', 'TESLA', 'MG']\n"
        ]
       }
      ],
      "source": [
       "test = lacentral_df.brand.value_counts().reset_index()\n",
       "print(test.brand.to_list())"
      ]
     },
     {
      "cell_type": "code",
      "execution_count": 14,
      "id": "3d6a5d2d",
      "metadata": {},
      "outputs": [],
      "source": [
       "brand_origin = {\n",
       "    'PEUGEOT': 'France',\n",
       "    'RENAULT': 'France',\n",
       "    'CITROEN': 'France',\n",
       "    'VOLKSWAGEN': 'Allemagne',\n",
       "    'MERCEDES': 'Allemagne',\n",
       "    'BMW': 'Allemagne',\n",
       "    'AUDI': 'Allemagne',\n",
       "    'TOYOTA': 'Japon',\n",
       "    'FORD': 'États-Unis',\n",
       "    'OPEL': 'Allemagne',\n",
       "    'MINI': 'Royaume-Uni',\n",
       "    'FIAT': 'Italie',\n",
       "    'DACIA': 'Roumanie',\n",
       "    'NISSAN': 'Japon',\n",
       "    'HYUNDAI': 'Corée du Sud',\n",
       "    'PORSCHE': 'Allemagne',\n",
       "    'KIA': 'Corée du Sud',\n",
       "    'DS': 'France',\n",
       "    'SKODA': 'République tchèque',\n",
       "    'VOLVO': 'Suède',\n",
       "    'SEAT': 'Espagne',\n",
       "    'LAND': 'Royaume-Uni',\n",
       "    'SUZUKI': 'Japon',\n",
       "    'JEEP': 'États-Unis',\n",
       "    'JAGUAR': 'Royaume-Uni',\n",
       "    'MAZDA': 'Japon',\n",
       "    'LEXUS': 'Japon',\n",
       "    'HONDA': 'Japon',\n",
       "    'ALFA': 'Italie',\n",
       "    'MITSUBISHI': 'Japon',\n",
       "    'SMART': 'Allemagne',\n",
       "    'ABARTH': 'Italie',\n",
       "    'CUPRA': 'Espagne',\n",
       "    'MASERATI': 'Italie',\n",
       "    'TESLA': 'États-Unis',\n",
       "    'CHEVROLET': 'États-Unis',\n",
       "    'MG4': 'Chine',\n",
       "    'FERRARI': 'Italie',\n",
       "    'DODGE': 'États-Unis',\n",
       "    'IVECO': 'Italie',\n",
       "    'INFINITI': 'Japon',\n",
       "    'ASTON': 'Royaume-Uni',\n",
       "    'LOTUS': 'Royaume-Uni',\n",
       "    'BENTLEY': 'Royaume-Uni',\n",
       "    'SSANGYONG': 'Corée du Sud',\n",
       "    'LANCIA': 'Italie',\n",
       "    'LIGIER': 'France',\n",
       "    'AUSTIN': 'Royaume-Uni',\n",
       "    'TRIUMPH': 'Royaume-Uni',\n",
       "    'CHATENET': 'France',\n",
       "    'LYNK': 'Chine',\n",
       "    'LAMBORGHINI': 'Italie',\n",
       "    'CHRYSLER': 'États-Unis',\n",
       "    'HUMMER': 'États-Unis',\n",
       "    'RADICAL': 'Royaume-Uni',\n",
       "    'SUBARU': 'Japon',\n",
       "    'ISUZU': 'Japon',\n",
       "    'DAIHATSU': 'Japon'\n",
       "}\n",
       "lacentral_df['brand_origin'] = lacentral_df['brand'].map(brand_origin)"
      ]
     },
     {
      "cell_type": "code",
      "execution_count": 15,
      "id": "96f179c8",
      "metadata": {},
      "outputs": [],
      "source": [
       "lacentral_df.to_csv('../data/lacentrale-dev-clean.csv', index=False)"
      ]
     }
    ],
    "metadata": {
     "kernelspec": {
      "display_name": "Python 3 (ipykernel)",
      "language": "python",
      "name": "python3"
     },
     "language_info": {
      "codemirror_mode": {
       "name": "ipython",
       "version": 3
      },
      "file_extension": ".py",
      "mimetype": "text/x-python",
      "name": "python",
      "nbconvert_exporter": "python",
      "pygments_lexer": "ipython3",
      "version": "3.10.4"
     },
     "vscode": {
      "interpreter": {
       "hash": "85c576d62e5a69baba7dcae6282c7bf6fba6f8d537c9cbb11ca984aece3c77a0"
      }
     }
    },
    "nbformat": 4,
    "nbformat_minor": 5
   }
   