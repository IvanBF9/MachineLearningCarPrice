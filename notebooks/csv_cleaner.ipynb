{
 "cells": [
  {
   "cell_type": "code",
   "execution_count": 63,
   "id": "96f179c8",
   "metadata": {},
   "outputs": [],
   "source": [
    "import pandas as pd\n",
    "\n",
    "#Import du CSV\n",
    "car = pd.read_csv(\"dataset.csv\")\n",
    "\n",
    "#On enlève les tables qui nous sembles pas important\n",
    "car = car.drop(['publishedsince', 'options', 'contrôletechnique', 'couleurextérieure', 'couleurintérieure', 'garantie', 'capacitébatterie', 'nombredepropriétaires', 'autonomiebatterie', 'conso.batterie', 'rechargeable', 'prixinclutlabatterie.1', 'voltagebatterie', 'waranty', 'puissancemoteur', 'intensitébatterie', 'prixinclutlabatterie', 'provenance', 'primeàlaconversion', 'puissancemoteur', 'vérifié&garanti', 'id', 'puissancefiscale', 'émissionsdeco2', 'consommationmixte', 'normeeuro', 'garantieconstructeur', \"crit'air\"], axis=1)\n",
    "\n",
    "#Clean du dataset\n",
    "car['carmodel'] = car['carmodel'].str.slice(2, -2)\n",
    "car['price'] = car['price'].str.strip().str.replace('\\n', '').str.replace(' ', '')\n",
    "car['nombredeportes'] = car['nombredeportes'].fillna(3).astype(int)\n",
    "car['nombredeplaces'] = car['nombredeplaces'].fillna(3).astype(int)\n",
    "car['année'] = car['année'].fillna(0).astype(int)\n",
    "car['premièremain(déclaratif)'] = car['premièremain(déclaratif)'].fillna('non')\n",
    "\n",
    "#Clean du kilométrage\n",
    "car['kilométragecompteur'] = car['kilométragecompteur'].str.replace('Km', '').str.replace(' ', '').str.strip().fillna(0).astype(int)\n",
    "car = car.loc[car['kilométragecompteur'] < 250000]\n",
    "\n",
    "#Clean de l'énergie\n",
    "car['énergie'].fillna(value='NA', inplace=True)\n",
    "car = car.loc[~car['énergie'].str.contains('Hybride|électrique|NA')]\n",
    "car = car.loc[~car['énergie'].str.contains('Bicarburation|essence|GPL|NA')]\n",
    "car = car.loc[~car['énergie'].str.contains('Carburation|essence|bioéthanol|NA')]\n",
    "\n",
    "#Clean de la puissance\n",
    "car['puissancedin'] = car['puissancedin'].str.strip().str.replace('ch', '').str.replace(' ', '')\n",
    "car = car.astype({'puissancedin': 'float'})\n",
    "car['puissancedin'] = car['puissancedin'].fillna(0).astype(int)\n",
    "mean_power_by_model = car.groupby('carmodel')['puissancedin'].transform(lambda x: x.mean())\n",
    "car.loc[car['puissancedin'] == 0, 'puissancedin'] = mean_power_by_model[car['puissancedin'] == 0]\n",
    "car = car[car['puissancedin'] != 0]\n",
    "\n",
    "#Changement de format pour la mis en circulation\n",
    "car['miseencirculation'] = pd.to_datetime(car['miseencirculation'])\n",
    "car['miseencirculation'] = car['miseencirculation'].dt.year\n",
    "\n",
    "#Clean du prix\n",
    "car['price'] = car['price'].str.strip().str.extract(r'([0-9 ]+)')[0].str.replace(' ', '').astype('int')\n",
    "car = car.loc[car['price'] < 200000]\n",
    "\n",
    "#Renommage des colonnes\n",
    "car = car.rename(columns={'carmodel': 'model', 'price': 'prix', 'année': 'annee', 'miseencirculation' : 'mise_en_circulation','kilométragecompteur': 'kilometrage', 'énergie': 'energie', 'boîtedevitesse': 'boite', 'nombredeportes': 'nb_portes', 'nombredeplaces': 'nb_places', 'premièremain(déclaratif)': 'premiere_main', 'puissancedin': 'puissance'})\n",
    "\n",
    "#Exportation du CSV clean\n",
    "car.to_csv('../data/dataset_clean.csv', index=False)"
   ]
  }
 ],
 "metadata": {
  "kernelspec": {
   "display_name": "Python 3",
   "language": "python",
   "name": "python3"
  },
  "language_info": {
   "codemirror_mode": {
    "name": "ipython",
    "version": 3
   },
   "file_extension": ".py",
   "mimetype": "text/x-python",
   "name": "python",
   "nbconvert_exporter": "python",
   "pygments_lexer": "ipython3",
   "version": "3.10.4"
  },
  "vscode": {
   "interpreter": {
    "hash": "3ad933181bd8a04b432d3370b9dc3b0662ad032c4dfaa4e4f1596c548f763858"
   }
  }
 },
 "nbformat": 4,
 "nbformat_minor": 5
}
