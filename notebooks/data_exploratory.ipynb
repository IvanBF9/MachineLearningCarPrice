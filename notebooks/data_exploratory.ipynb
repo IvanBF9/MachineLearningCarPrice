{
    "cells": [
     {
      "attachments": {},
      "cell_type": "markdown",
      "metadata": {},
      "source": []
     },
     {
      "attachments": {},
      "cell_type": "markdown",
      "metadata": {},
      "source": [
       "importation des librairies"
      ]
     },
     {
      "cell_type": "code",
      "execution_count": 1,
      "metadata": {},
      "outputs": [],
      "source": [
       "import pandas as pd\n",
       "import matplotlib.pyplot as plt\n",
       "import seaborn as sns;"
      ]
     },
     {
      "attachments": {},
      "cell_type": "markdown",
      "metadata": {},
      "source": [
       "lecture du dataset"
      ]
     },
     {
      "cell_type": "code",
      "execution_count": 2,
      "metadata": {},
      "outputs": [
       {
        "data": {
         "text/plain": [
          "(1312, 26)"
         ]
        },
        "execution_count": 2,
        "metadata": {},
        "output_type": "execute_result"
       }
      ],
      "source": [
       "file_path = '../data/concat-csv.csv'\n",
       "lacentral_df = pd.read_csv(file_path, sep=';')\n",
       "lacentral_df.shape"
      ]
     },
     {
      "cell_type": "code",
      "execution_count": 3,
      "metadata": {},
      "outputs": [
       {
        "data": {
         "text/html": [
          "<div>\n",
          "<style scoped>\n",
          "    .dataframe tbody tr th:only-of-type {\n",
          "        vertical-align: middle;\n",
          "    }\n",
          "\n",
          "    .dataframe tbody tr th {\n",
          "        vertical-align: top;\n",
          "    }\n",
          "\n",
          "    .dataframe thead th {\n",
          "        text-align: right;\n",
          "    }\n",
          "</style>\n",
          "<table border=\"1\" class=\"dataframe\">\n",
          "  <thead>\n",
          "    <tr style=\"text-align: right;\">\n",
          "      <th></th>\n",
          "      <th>price</th>\n",
          "      <th>model</th>\n",
          "      <th>energy</th>\n",
          "      <th>gear_box</th>\n",
          "      <th>kilometers</th>\n",
          "      <th>year</th>\n",
          "      <th>zip_code</th>\n",
          "      <th>cylinder</th>\n",
          "      <th>horsepower</th>\n",
          "      <th>origin</th>\n",
          "      <th>...</th>\n",
          "      <th>doors</th>\n",
          "      <th>seats</th>\n",
          "      <th>length</th>\n",
          "      <th>trunkVolumeRange</th>\n",
          "      <th>ratedHorsePower</th>\n",
          "      <th>pollutionNorm</th>\n",
          "      <th>critAir</th>\n",
          "      <th>co2</th>\n",
          "      <th>picture</th>\n",
          "      <th>page</th>\n",
          "    </tr>\n",
          "  </thead>\n",
          "  <tbody>\n",
          "    <tr>\n",
          "      <th>0</th>\n",
          "      <td>12 480 €</td>\n",
          "      <td>CITROEN C3 III</td>\n",
          "      <td>Essence</td>\n",
          "      <td>Manuelle</td>\n",
          "      <td>128 750 km</td>\n",
          "      <td>2020</td>\n",
          "      <td>01 ‌</td>\n",
          "      <td>1.2</td>\n",
          "      <td>68.0</td>\n",
          "      <td>France</td>\n",
          "      <td>...</td>\n",
          "      <td>5.0</td>\n",
          "      <td>2.0</td>\n",
          "      <td>4 m</td>\n",
          "      <td>Grand coffre</td>\n",
          "      <td>4 CV</td>\n",
          "      <td>EURO6</td>\n",
          "      <td>1</td>\n",
          "      <td>A</td>\n",
          "      <td>https://image-annonce.lacentrale.fr/480x369/E1...</td>\n",
          "      <td>1</td>\n",
          "    </tr>\n",
          "    <tr>\n",
          "      <th>1</th>\n",
          "      <td>57 660 €</td>\n",
          "      <td>BMW X5 G05</td>\n",
          "      <td>Diesel</td>\n",
          "      <td>Automatique</td>\n",
          "      <td>140 501 km</td>\n",
          "      <td>2020</td>\n",
          "      <td>01 ‌</td>\n",
          "      <td>3.0</td>\n",
          "      <td>265.0</td>\n",
          "      <td>France</td>\n",
          "      <td>...</td>\n",
          "      <td>5.0</td>\n",
          "      <td>7.0</td>\n",
          "      <td>4,92 m</td>\n",
          "      <td>Moyen Coffre</td>\n",
          "      <td>16 CV</td>\n",
          "      <td>EURO6</td>\n",
          "      <td>2</td>\n",
          "      <td>D</td>\n",
          "      <td>https://image-annonce.lacentrale.fr/480x369/E1...</td>\n",
          "      <td>1</td>\n",
          "    </tr>\n",
          "    <tr>\n",
          "      <th>2</th>\n",
          "      <td>68 900 €</td>\n",
          "      <td>BMW X6 F16</td>\n",
          "      <td>Diesel</td>\n",
          "      <td>Automatique</td>\n",
          "      <td>66 045 km</td>\n",
          "      <td>2019</td>\n",
          "      <td>45 ‌</td>\n",
          "      <td>3.0</td>\n",
          "      <td>313.0</td>\n",
          "      <td>France</td>\n",
          "      <td>...</td>\n",
          "      <td>5.0</td>\n",
          "      <td>5.0</td>\n",
          "      <td>4,91 m</td>\n",
          "      <td>Moyen Coffre</td>\n",
          "      <td>20 CV</td>\n",
          "      <td>EURO6</td>\n",
          "      <td>2</td>\n",
          "      <td>E</td>\n",
          "      <td>https://image-annonce.lacentrale.fr/480x369/E1...</td>\n",
          "      <td>1</td>\n",
          "    </tr>\n",
          "    <tr>\n",
          "      <th>3</th>\n",
          "      <td>81 730 €</td>\n",
          "      <td>AUDI Q8</td>\n",
          "      <td>Diesel</td>\n",
          "      <td>Automatique</td>\n",
          "      <td>29 430 km</td>\n",
          "      <td>2020</td>\n",
          "      <td>76 ‌</td>\n",
          "      <td>3.0</td>\n",
          "      <td>231.0</td>\n",
          "      <td>France</td>\n",
          "      <td>...</td>\n",
          "      <td>5.0</td>\n",
          "      <td>5.0</td>\n",
          "      <td>4,99 m</td>\n",
          "      <td>Moyen Coffre</td>\n",
          "      <td>14 CV</td>\n",
          "      <td>EURO6</td>\n",
          "      <td>2</td>\n",
          "      <td>E</td>\n",
          "      <td>https://image-annonce.lacentrale.fr/480x369/E1...</td>\n",
          "      <td>1</td>\n",
          "    </tr>\n",
          "    <tr>\n",
          "      <th>4</th>\n",
          "      <td>35 060 €</td>\n",
          "      <td>TOYOTA YARIS CROSS</td>\n",
          "      <td>Hybrides</td>\n",
          "      <td>Automatique</td>\n",
          "      <td>18 km</td>\n",
          "      <td>2024</td>\n",
          "      <td>27 ‌</td>\n",
          "      <td>1.5</td>\n",
          "      <td>116.0</td>\n",
          "      <td>France</td>\n",
          "      <td>...</td>\n",
          "      <td>5.0</td>\n",
          "      <td>5.0</td>\n",
          "      <td>4,18 m</td>\n",
          "      <td>Petit coffre</td>\n",
          "      <td>5 CV</td>\n",
          "      <td>EURO6</td>\n",
          "      <td>1</td>\n",
          "      <td>B</td>\n",
          "      <td>https://image-annonce.lacentrale.fr/480x369/E1...</td>\n",
          "      <td>1</td>\n",
          "    </tr>\n",
          "  </tbody>\n",
          "</table>\n",
          "<p>5 rows × 26 columns</p>\n",
          "</div>"
         ],
         "text/plain": [
          "      price               model    energy     gear_box  kilometers  year   \n",
          "0  12 480 €      CITROEN C3 III   Essence     Manuelle  128 750 km  2020  \\\n",
          "1  57 660 €          BMW X5 G05    Diesel  Automatique  140 501 km  2020   \n",
          "2  68 900 €          BMW X6 F16    Diesel  Automatique   66 045 km  2019   \n",
          "3  81 730 €             AUDI Q8    Diesel  Automatique   29 430 km  2020   \n",
          "4  35 060 €  TOYOTA YARIS CROSS  Hybrides  Automatique       18 km  2024   \n",
          "\n",
          "  zip_code  cylinder  horsepower  origin  ... doors seats  length   \n",
          "0     01 ‌       1.2        68.0  France  ...   5.0   2.0     4 m  \\\n",
          "1     01 ‌       3.0       265.0  France  ...   5.0   7.0  4,92 m   \n",
          "2     45 ‌       3.0       313.0  France  ...   5.0   5.0  4,91 m   \n",
          "3     76 ‌       3.0       231.0  France  ...   5.0   5.0  4,99 m   \n",
          "4     27 ‌       1.5       116.0  France  ...   5.0   5.0  4,18 m   \n",
          "\n",
          "   trunkVolumeRange ratedHorsePower pollutionNorm  critAir  co2   \n",
          "0      Grand coffre            4 CV         EURO6        1    A  \\\n",
          "1      Moyen Coffre           16 CV         EURO6        2    D   \n",
          "2      Moyen Coffre           20 CV         EURO6        2    E   \n",
          "3      Moyen Coffre           14 CV         EURO6        2    E   \n",
          "4      Petit coffre            5 CV         EURO6        1    B   \n",
          "\n",
          "                                             picture page  \n",
          "0  https://image-annonce.lacentrale.fr/480x369/E1...    1  \n",
          "1  https://image-annonce.lacentrale.fr/480x369/E1...    1  \n",
          "2  https://image-annonce.lacentrale.fr/480x369/E1...    1  \n",
          "3  https://image-annonce.lacentrale.fr/480x369/E1...    1  \n",
          "4  https://image-annonce.lacentrale.fr/480x369/E1...    1  \n",
          "\n",
          "[5 rows x 26 columns]"
         ]
        },
        "execution_count": 3,
        "metadata": {},
        "output_type": "execute_result"
       }
      ],
      "source": [
       "lacentral_df.head()"
      ]
     },
     {
      "cell_type": "code",
      "execution_count": 4,
      "metadata": {},
      "outputs": [
       {
        "name": "stdout",
        "output_type": "stream",
        "text": [
         "<class 'pandas.core.frame.DataFrame'>\n",
         "RangeIndex: 1312 entries, 0 to 1311\n",
         "Data columns (total 26 columns):\n",
         " #   Column                Non-Null Count  Dtype  \n",
         "---  ------                --------------  -----  \n",
         " 0   price                 1312 non-null   object \n",
         " 1   model                 1312 non-null   object \n",
         " 2   energy                1300 non-null   object \n",
         " 3   gear_box              1312 non-null   object \n",
         " 4   kilometers            1312 non-null   object \n",
         " 5   year                  1312 non-null   int64  \n",
         " 6   zip_code              1312 non-null   object \n",
         " 7   cylinder              1312 non-null   float64\n",
         " 8   horsepower            1312 non-null   float64\n",
         " 9   origin                1312 non-null   object \n",
         " 10  firstCirculationDate  1312 non-null   object \n",
         " 11  technicalControl      1312 non-null   object \n",
         " 12  firstHand             1312 non-null   object \n",
         " 13  owners                307 non-null    float64\n",
         " 14  externalColor         1312 non-null   object \n",
         " 15  internalColor         422 non-null    object \n",
         " 16  doors                 1310 non-null   float64\n",
         " 17  seats                 1283 non-null   float64\n",
         " 18  length                1280 non-null   object \n",
         " 19  trunkVolumeRange      1201 non-null   object \n",
         " 20  ratedHorsePower       1312 non-null   object \n",
         " 21  pollutionNorm         1283 non-null   object \n",
         " 22  critAir               1308 non-null   object \n",
         " 23  co2                   1248 non-null   object \n",
         " 24  picture               1312 non-null   object \n",
         " 25  page                  1312 non-null   int64  \n",
         "dtypes: float64(5), int64(2), object(19)\n",
         "memory usage: 266.6+ KB\n"
        ]
       }
      ],
      "source": [
       "lacentral_df.info()"
      ]
     },
     {
      "cell_type": "code",
      "execution_count": 5,
      "metadata": {},
      "outputs": [
       {
        "name": "stdout",
        "output_type": "stream",
        "text": [
         "nombre de colonnes: 26\n"
        ]
       },
       {
        "data": {
         "text/plain": [
          "Index(['price', 'model', 'energy', 'gear_box', 'kilometers', 'year',\n",
          "       'zip_code', 'cylinder', 'horsepower', 'origin', 'firstCirculationDate',\n",
          "       'technicalControl', 'firstHand', 'owners', 'externalColor',\n",
          "       'internalColor', 'doors', 'seats', 'length', 'trunkVolumeRange',\n",
          "       'ratedHorsePower', 'pollutionNorm', 'critAir', 'co2', 'picture',\n",
          "       'page'],\n",
          "      dtype='object')"
         ]
        },
        "execution_count": 5,
        "metadata": {},
        "output_type": "execute_result"
       }
      ],
      "source": [
       "print(f\"nombre de colonnes: {lacentral_df.shape[1]}\")\n",
       "lacentral_df.columns"
      ]
     },
     {
      "cell_type": "code",
      "execution_count": 6,
      "metadata": {},
      "outputs": [
       {
        "name": "stdout",
        "output_type": "stream",
        "text": [
         "There are null values in the DataFrame\n"
        ]
       }
      ],
      "source": [
       "if lacentral_df.isnull().any().any():\n",
       "    print(\"There are null values in the DataFrame\")\n",
       "else:\n",
       "    print(\"There are no null values in the DataFrame\")"
      ]
     },
     {
      "cell_type": "code",
      "execution_count": 7,
      "metadata": {},
      "outputs": [
       {
        "data": {
         "text/plain": [
          "price                      0\n",
          "model                      0\n",
          "energy                    12\n",
          "gear_box                   0\n",
          "kilometers                 0\n",
          "year                       0\n",
          "zip_code                   0\n",
          "cylinder                   0\n",
          "horsepower                 0\n",
          "origin                     0\n",
          "firstCirculationDate       0\n",
          "technicalControl           0\n",
          "firstHand                  0\n",
          "owners                  1005\n",
          "externalColor              0\n",
          "internalColor            890\n",
          "doors                      2\n",
          "seats                     29\n",
          "length                    32\n",
          "trunkVolumeRange         111\n",
          "ratedHorsePower            0\n",
          "pollutionNorm             29\n",
          "critAir                    4\n",
          "co2                       64\n",
          "picture                    0\n",
          "page                       0\n",
          "dtype: int64"
         ]
        },
        "execution_count": 7,
        "metadata": {},
        "output_type": "execute_result"
       }
      ],
      "source": [
       "lacentral_df.isna().sum()"
      ]
     },
     {
      "cell_type": "code",
      "execution_count": 8,
      "metadata": {},
      "outputs": [
       {
        "name": "stdout",
        "output_type": "stream",
        "text": [
         "(1133, 26)\n"
        ]
       },
       {
        "data": {
         "text/plain": [
          "price                   0\n",
          "model                   0\n",
          "energy                  0\n",
          "gear_box                0\n",
          "kilometers              0\n",
          "year                    0\n",
          "zip_code                0\n",
          "cylinder                0\n",
          "horsepower              0\n",
          "origin                  0\n",
          "firstCirculationDate    0\n",
          "technicalControl        0\n",
          "firstHand               0\n",
          "owners                  0\n",
          "externalColor           0\n",
          "internalColor           0\n",
          "doors                   0\n",
          "seats                   0\n",
          "length                  0\n",
          "trunkVolumeRange        0\n",
          "ratedHorsePower         0\n",
          "pollutionNorm           0\n",
          "critAir                 0\n",
          "co2                     0\n",
          "picture                 0\n",
          "page                    0\n",
          "dtype: int64"
         ]
        },
        "execution_count": 8,
        "metadata": {},
        "output_type": "execute_result"
       }
      ],
      "source": [
       "lacentral_df['owners'] = lacentral_df['owners'].fillna(0)\n",
       "lacentral_df['internalColor'] = lacentral_df['internalColor'].fillna(0)\n",
       "lacentral_df.dropna(inplace=True)\n",
       "print(lacentral_df.shape)\n",
       "lacentral_df.isna().sum()"
      ]
     },
     {
      "cell_type": "code",
      "execution_count": 9,
      "metadata": {},
      "outputs": [
       {
        "name": "stdout",
        "output_type": "stream",
        "text": [
         "There are no null values in the DataFrame\n"
        ]
       }
      ],
      "source": [
       "if lacentral_df.isnull().any().any():\n",
       "    print(\"There are null values in the DataFrame\")\n",
       "else:\n",
       "    print(\"There are no null values in the DataFrame\")"
      ]
     },
     {
      "cell_type": "code",
      "execution_count": 10,
      "metadata": {},
      "outputs": [
       {
        "name": "stdout",
        "output_type": "stream",
        "text": [
         "Number of duplicated rows: 0\n"
        ]
       }
      ],
      "source": [
       "num_duplicates = lacentral_df.duplicated().sum()\n",
       "print(f\"Number of duplicated rows: {num_duplicates}\")"
      ]
     },
     {
      "cell_type": "code",
      "execution_count": 11,
      "metadata": {},
      "outputs": [
       {
        "data": {
         "text/plain": [
          "(1133, 26)"
         ]
        },
        "execution_count": 11,
        "metadata": {},
        "output_type": "execute_result"
       }
      ],
      "source": [
       "duplicated_rows = lacentral_df[lacentral_df.duplicated()]\n",
       "lacentral_df.drop_duplicates(inplace=True)\n",
       "lacentral_df.shape"
      ]
     },
     {
      "attachments": {},
      "cell_type": "markdown",
      "metadata": {},
      "source": [
       "1266 modèles de voiture"
      ]
     },
     {
      "cell_type": "code",
      "execution_count": 12,
      "metadata": {},
      "outputs": [
       {
        "data": {
         "text/html": [
          "<div>\n",
          "<style scoped>\n",
          "    .dataframe tbody tr th:only-of-type {\n",
          "        vertical-align: middle;\n",
          "    }\n",
          "\n",
          "    .dataframe tbody tr th {\n",
          "        vertical-align: top;\n",
          "    }\n",
          "\n",
          "    .dataframe thead th {\n",
          "        text-align: right;\n",
          "    }\n",
          "</style>\n",
          "<table border=\"1\" class=\"dataframe\">\n",
          "  <thead>\n",
          "    <tr style=\"text-align: right;\">\n",
          "      <th></th>\n",
          "      <th>model</th>\n",
          "      <th>count</th>\n",
          "    </tr>\n",
          "  </thead>\n",
          "  <tbody>\n",
          "    <tr>\n",
          "      <th>0</th>\n",
          "      <td>PEUGEOT 208 II</td>\n",
          "      <td>32</td>\n",
          "    </tr>\n",
          "    <tr>\n",
          "      <th>1</th>\n",
          "      <td>PEUGEOT 2008 II</td>\n",
          "      <td>29</td>\n",
          "    </tr>\n",
          "    <tr>\n",
          "      <th>2</th>\n",
          "      <td>CITROEN C3 III phase 2</td>\n",
          "      <td>23</td>\n",
          "    </tr>\n",
          "    <tr>\n",
          "      <th>3</th>\n",
          "      <td>RENAULT CLIO V</td>\n",
          "      <td>22</td>\n",
          "    </tr>\n",
          "    <tr>\n",
          "      <th>4</th>\n",
          "      <td>CITROEN C3 III</td>\n",
          "      <td>21</td>\n",
          "    </tr>\n",
          "    <tr>\n",
          "      <th>...</th>\n",
          "      <td>...</td>\n",
          "      <td>...</td>\n",
          "    </tr>\n",
          "    <tr>\n",
          "      <th>362</th>\n",
          "      <td>SEAT LEON IV ST</td>\n",
          "      <td>1</td>\n",
          "    </tr>\n",
          "    <tr>\n",
          "      <th>363</th>\n",
          "      <td>AUDI A5 SPORTBACK II</td>\n",
          "      <td>1</td>\n",
          "    </tr>\n",
          "    <tr>\n",
          "      <th>364</th>\n",
          "      <td>AUDI A3 III phase 2</td>\n",
          "      <td>1</td>\n",
          "    </tr>\n",
          "    <tr>\n",
          "      <th>365</th>\n",
          "      <td>DACIA JOGGER</td>\n",
          "      <td>1</td>\n",
          "    </tr>\n",
          "    <tr>\n",
          "      <th>366</th>\n",
          "      <td>AUDI RS4 V AVANT</td>\n",
          "      <td>1</td>\n",
          "    </tr>\n",
          "  </tbody>\n",
          "</table>\n",
          "<p>367 rows × 2 columns</p>\n",
          "</div>"
         ],
         "text/plain": [
          "                      model  count\n",
          "0            PEUGEOT 208 II     32\n",
          "1           PEUGEOT 2008 II     29\n",
          "2    CITROEN C3 III phase 2     23\n",
          "3            RENAULT CLIO V     22\n",
          "4            CITROEN C3 III     21\n",
          "..                      ...    ...\n",
          "362         SEAT LEON IV ST      1\n",
          "363    AUDI A5 SPORTBACK II      1\n",
          "364     AUDI A3 III phase 2      1\n",
          "365            DACIA JOGGER      1\n",
          "366        AUDI RS4 V AVANT      1\n",
          "\n",
          "[367 rows x 2 columns]"
         ]
        },
        "execution_count": 12,
        "metadata": {},
        "output_type": "execute_result"
       }
      ],
      "source": [
       "lacentral_df['model'].value_counts().reset_index()"
      ]
     },
     {
      "attachments": {},
      "cell_type": "markdown",
      "metadata": {},
      "source": [
       "62 marques"
      ]
     },
     {
      "cell_type": "code",
      "execution_count": 13,
      "metadata": {},
      "outputs": [
       {
        "data": {
         "text/html": [
          "<div>\n",
          "<style scoped>\n",
          "    .dataframe tbody tr th:only-of-type {\n",
          "        vertical-align: middle;\n",
          "    }\n",
          "\n",
          "    .dataframe tbody tr th {\n",
          "        vertical-align: top;\n",
          "    }\n",
          "\n",
          "    .dataframe thead th {\n",
          "        text-align: right;\n",
          "    }\n",
          "</style>\n",
          "<table border=\"1\" class=\"dataframe\">\n",
          "  <thead>\n",
          "    <tr style=\"text-align: right;\">\n",
          "      <th></th>\n",
          "      <th>brand</th>\n",
          "      <th>count</th>\n",
          "    </tr>\n",
          "  </thead>\n",
          "  <tbody>\n",
          "    <tr>\n",
          "      <th>0</th>\n",
          "      <td>PEUGEOT</td>\n",
          "      <td>191</td>\n",
          "    </tr>\n",
          "    <tr>\n",
          "      <th>1</th>\n",
          "      <td>CITROEN</td>\n",
          "      <td>138</td>\n",
          "    </tr>\n",
          "    <tr>\n",
          "      <th>2</th>\n",
          "      <td>RENAULT</td>\n",
          "      <td>116</td>\n",
          "    </tr>\n",
          "    <tr>\n",
          "      <th>3</th>\n",
          "      <td>MERCEDES</td>\n",
          "      <td>90</td>\n",
          "    </tr>\n",
          "    <tr>\n",
          "      <th>4</th>\n",
          "      <td>AUDI</td>\n",
          "      <td>88</td>\n",
          "    </tr>\n",
          "    <tr>\n",
          "      <th>5</th>\n",
          "      <td>BMW</td>\n",
          "      <td>88</td>\n",
          "    </tr>\n",
          "    <tr>\n",
          "      <th>6</th>\n",
          "      <td>VOLKSWAGEN</td>\n",
          "      <td>70</td>\n",
          "    </tr>\n",
          "    <tr>\n",
          "      <th>7</th>\n",
          "      <td>MINI</td>\n",
          "      <td>44</td>\n",
          "    </tr>\n",
          "    <tr>\n",
          "      <th>8</th>\n",
          "      <td>TOYOTA</td>\n",
          "      <td>31</td>\n",
          "    </tr>\n",
          "    <tr>\n",
          "      <th>9</th>\n",
          "      <td>FORD</td>\n",
          "      <td>28</td>\n",
          "    </tr>\n",
          "    <tr>\n",
          "      <th>10</th>\n",
          "      <td>DACIA</td>\n",
          "      <td>26</td>\n",
          "    </tr>\n",
          "    <tr>\n",
          "      <th>11</th>\n",
          "      <td>FIAT</td>\n",
          "      <td>24</td>\n",
          "    </tr>\n",
          "    <tr>\n",
          "      <th>12</th>\n",
          "      <td>HYUNDAI</td>\n",
          "      <td>23</td>\n",
          "    </tr>\n",
          "    <tr>\n",
          "      <th>13</th>\n",
          "      <td>OPEL</td>\n",
          "      <td>21</td>\n",
          "    </tr>\n",
          "    <tr>\n",
          "      <th>14</th>\n",
          "      <td>PORSCHE</td>\n",
          "      <td>20</td>\n",
          "    </tr>\n",
          "    <tr>\n",
          "      <th>15</th>\n",
          "      <td>KIA</td>\n",
          "      <td>18</td>\n",
          "    </tr>\n",
          "    <tr>\n",
          "      <th>16</th>\n",
          "      <td>SKODA</td>\n",
          "      <td>18</td>\n",
          "    </tr>\n",
          "    <tr>\n",
          "      <th>17</th>\n",
          "      <td>VOLVO</td>\n",
          "      <td>15</td>\n",
          "    </tr>\n",
          "    <tr>\n",
          "      <th>18</th>\n",
          "      <td>LAND</td>\n",
          "      <td>13</td>\n",
          "    </tr>\n",
          "    <tr>\n",
          "      <th>19</th>\n",
          "      <td>NISSAN</td>\n",
          "      <td>11</td>\n",
          "    </tr>\n",
          "    <tr>\n",
          "      <th>20</th>\n",
          "      <td>DS</td>\n",
          "      <td>9</td>\n",
          "    </tr>\n",
          "    <tr>\n",
          "      <th>21</th>\n",
          "      <td>SEAT</td>\n",
          "      <td>7</td>\n",
          "    </tr>\n",
          "    <tr>\n",
          "      <th>22</th>\n",
          "      <td>HONDA</td>\n",
          "      <td>7</td>\n",
          "    </tr>\n",
          "    <tr>\n",
          "      <th>23</th>\n",
          "      <td>ALFA</td>\n",
          "      <td>5</td>\n",
          "    </tr>\n",
          "    <tr>\n",
          "      <th>24</th>\n",
          "      <td>JAGUAR</td>\n",
          "      <td>5</td>\n",
          "    </tr>\n",
          "    <tr>\n",
          "      <th>25</th>\n",
          "      <td>JEEP</td>\n",
          "      <td>4</td>\n",
          "    </tr>\n",
          "    <tr>\n",
          "      <th>26</th>\n",
          "      <td>MAZDA</td>\n",
          "      <td>4</td>\n",
          "    </tr>\n",
          "    <tr>\n",
          "      <th>27</th>\n",
          "      <td>CUPRA</td>\n",
          "      <td>3</td>\n",
          "    </tr>\n",
          "    <tr>\n",
          "      <th>28</th>\n",
          "      <td>SUZUKI</td>\n",
          "      <td>3</td>\n",
          "    </tr>\n",
          "    <tr>\n",
          "      <th>29</th>\n",
          "      <td>LEXUS</td>\n",
          "      <td>3</td>\n",
          "    </tr>\n",
          "    <tr>\n",
          "      <th>30</th>\n",
          "      <td>SMART</td>\n",
          "      <td>3</td>\n",
          "    </tr>\n",
          "    <tr>\n",
          "      <th>31</th>\n",
          "      <td>SUBARU</td>\n",
          "      <td>2</td>\n",
          "    </tr>\n",
          "    <tr>\n",
          "      <th>32</th>\n",
          "      <td>ALPINE</td>\n",
          "      <td>1</td>\n",
          "    </tr>\n",
          "    <tr>\n",
          "      <th>33</th>\n",
          "      <td>FERRARI</td>\n",
          "      <td>1</td>\n",
          "    </tr>\n",
          "    <tr>\n",
          "      <th>34</th>\n",
          "      <td>TESLA</td>\n",
          "      <td>1</td>\n",
          "    </tr>\n",
          "    <tr>\n",
          "      <th>35</th>\n",
          "      <td>MERCEDES-AMG</td>\n",
          "      <td>1</td>\n",
          "    </tr>\n",
          "    <tr>\n",
          "      <th>36</th>\n",
          "      <td>MG</td>\n",
          "      <td>1</td>\n",
          "    </tr>\n",
          "  </tbody>\n",
          "</table>\n",
          "</div>"
         ],
         "text/plain": [
          "           brand  count\n",
          "0        PEUGEOT    191\n",
          "1        CITROEN    138\n",
          "2        RENAULT    116\n",
          "3       MERCEDES     90\n",
          "4           AUDI     88\n",
          "5            BMW     88\n",
          "6     VOLKSWAGEN     70\n",
          "7           MINI     44\n",
          "8         TOYOTA     31\n",
          "9           FORD     28\n",
          "10         DACIA     26\n",
          "11          FIAT     24\n",
          "12       HYUNDAI     23\n",
          "13          OPEL     21\n",
          "14       PORSCHE     20\n",
          "15           KIA     18\n",
          "16         SKODA     18\n",
          "17         VOLVO     15\n",
          "18          LAND     13\n",
          "19        NISSAN     11\n",
          "20            DS      9\n",
          "21          SEAT      7\n",
          "22         HONDA      7\n",
          "23          ALFA      5\n",
          "24        JAGUAR      5\n",
          "25          JEEP      4\n",
          "26         MAZDA      4\n",
          "27         CUPRA      3\n",
          "28        SUZUKI      3\n",
          "29         LEXUS      3\n",
          "30         SMART      3\n",
          "31        SUBARU      2\n",
          "32        ALPINE      1\n",
          "33       FERRARI      1\n",
          "34         TESLA      1\n",
          "35  MERCEDES-AMG      1\n",
          "36            MG      1"
         ]
        },
        "execution_count": 13,
        "metadata": {},
        "output_type": "execute_result"
       }
      ],
      "source": [
       "lacentral_df['brand'] = lacentral_df['model'].str.strip().str.split().str[0]\n",
       "lacentral_df['brand'].value_counts().reset_index()"
      ]
     },
     {
      "attachments": {},
      "cell_type": "markdown",
      "metadata": {},
      "source": [
       "Visualister les 20 modeles de voitures les plus vendus"
      ]
     },
     {
      "cell_type": "code",
      "execution_count": 14,
      "metadata": {},
      "outputs": [
       {
        "data": {
         "text/html": [
          "<div>\n",
          "<style scoped>\n",
          "    .dataframe tbody tr th:only-of-type {\n",
          "        vertical-align: middle;\n",
          "    }\n",
          "\n",
          "    .dataframe tbody tr th {\n",
          "        vertical-align: top;\n",
          "    }\n",
          "\n",
          "    .dataframe thead th {\n",
          "        text-align: right;\n",
          "    }\n",
          "</style>\n",
          "<table border=\"1\" class=\"dataframe\">\n",
          "  <thead>\n",
          "    <tr style=\"text-align: right;\">\n",
          "      <th></th>\n",
          "      <th>model</th>\n",
          "      <th>count</th>\n",
          "    </tr>\n",
          "  </thead>\n",
          "  <tbody>\n",
          "    <tr>\n",
          "      <th>0</th>\n",
          "      <td>PEUGEOT 208 II</td>\n",
          "      <td>32</td>\n",
          "    </tr>\n",
          "    <tr>\n",
          "      <th>1</th>\n",
          "      <td>PEUGEOT 2008 II</td>\n",
          "      <td>29</td>\n",
          "    </tr>\n",
          "    <tr>\n",
          "      <th>2</th>\n",
          "      <td>CITROEN C3 III phase 2</td>\n",
          "      <td>23</td>\n",
          "    </tr>\n",
          "    <tr>\n",
          "      <th>3</th>\n",
          "      <td>RENAULT CLIO V</td>\n",
          "      <td>22</td>\n",
          "    </tr>\n",
          "    <tr>\n",
          "      <th>4</th>\n",
          "      <td>CITROEN C3 III</td>\n",
          "      <td>21</td>\n",
          "    </tr>\n",
          "    <tr>\n",
          "      <th>5</th>\n",
          "      <td>PEUGEOT 208 phase 2</td>\n",
          "      <td>19</td>\n",
          "    </tr>\n",
          "    <tr>\n",
          "      <th>6</th>\n",
          "      <td>PEUGEOT 3008 II</td>\n",
          "      <td>18</td>\n",
          "    </tr>\n",
          "    <tr>\n",
          "      <th>7</th>\n",
          "      <td>CITROEN C5 AIRCROSS</td>\n",
          "      <td>18</td>\n",
          "    </tr>\n",
          "    <tr>\n",
          "      <th>8</th>\n",
          "      <td>MERCEDES CLASSE A IV</td>\n",
          "      <td>18</td>\n",
          "    </tr>\n",
          "    <tr>\n",
          "      <th>9</th>\n",
          "      <td>BMW SERIE 1 F40</td>\n",
          "      <td>16</td>\n",
          "    </tr>\n",
          "    <tr>\n",
          "      <th>10</th>\n",
          "      <td>CITROEN C4 III</td>\n",
          "      <td>15</td>\n",
          "    </tr>\n",
          "    <tr>\n",
          "      <th>11</th>\n",
          "      <td>PEUGEOT 308 II phase 2</td>\n",
          "      <td>15</td>\n",
          "    </tr>\n",
          "    <tr>\n",
          "      <th>12</th>\n",
          "      <td>CITROEN C3 AIRCROSS</td>\n",
          "      <td>13</td>\n",
          "    </tr>\n",
          "    <tr>\n",
          "      <th>13</th>\n",
          "      <td>PEUGEOT 2008 phase 2</td>\n",
          "      <td>12</td>\n",
          "    </tr>\n",
          "    <tr>\n",
          "      <th>14</th>\n",
          "      <td>MINI III 3P</td>\n",
          "      <td>11</td>\n",
          "    </tr>\n",
          "    <tr>\n",
          "      <th>15</th>\n",
          "      <td>RENAULT CAPTUR II</td>\n",
          "      <td>10</td>\n",
          "    </tr>\n",
          "    <tr>\n",
          "      <th>16</th>\n",
          "      <td>MINI COUNTRYMAN II phase 2</td>\n",
          "      <td>9</td>\n",
          "    </tr>\n",
          "    <tr>\n",
          "      <th>17</th>\n",
          "      <td>RENAULT CAPTUR</td>\n",
          "      <td>9</td>\n",
          "    </tr>\n",
          "    <tr>\n",
          "      <th>18</th>\n",
          "      <td>AUDI A3 III SPORTBACK phase 2</td>\n",
          "      <td>9</td>\n",
          "    </tr>\n",
          "    <tr>\n",
          "      <th>19</th>\n",
          "      <td>PEUGEOT 3008 II phase 2</td>\n",
          "      <td>9</td>\n",
          "    </tr>\n",
          "  </tbody>\n",
          "</table>\n",
          "</div>"
         ],
         "text/plain": [
          "                            model  count\n",
          "0                  PEUGEOT 208 II     32\n",
          "1                 PEUGEOT 2008 II     29\n",
          "2          CITROEN C3 III phase 2     23\n",
          "3                  RENAULT CLIO V     22\n",
          "4                  CITROEN C3 III     21\n",
          "5             PEUGEOT 208 phase 2     19\n",
          "6                 PEUGEOT 3008 II     18\n",
          "7             CITROEN C5 AIRCROSS     18\n",
          "8            MERCEDES CLASSE A IV     18\n",
          "9                 BMW SERIE 1 F40     16\n",
          "10                 CITROEN C4 III     15\n",
          "11         PEUGEOT 308 II phase 2     15\n",
          "12            CITROEN C3 AIRCROSS     13\n",
          "13           PEUGEOT 2008 phase 2     12\n",
          "14                    MINI III 3P     11\n",
          "15              RENAULT CAPTUR II     10\n",
          "16     MINI COUNTRYMAN II phase 2      9\n",
          "17                 RENAULT CAPTUR      9\n",
          "18  AUDI A3 III SPORTBACK phase 2      9\n",
          "19        PEUGEOT 3008 II phase 2      9"
         ]
        },
        "execution_count": 14,
        "metadata": {},
        "output_type": "execute_result"
       }
      ],
      "source": [
       "car_model = lacentral_df.model.value_counts().reset_index().head(20)\n",
       "car_model"
      ]
     },
     {
      "cell_type": "code",
      "execution_count": 15,
      "metadata": {},
      "outputs": [
       {
        "data": {
         "text/plain": [
          "Text(0, 0.5, 'Model name')"
         ]
        },
        "execution_count": 15,
        "metadata": {},
        "output_type": "execute_result"
       },
       {
        "data": {
         "image/png": "[encoded data removed]",
         "text/plain": [
          "<Figure size 640x480 with 1 Axes>"
         ]
        },
        "metadata": {},
        "output_type": "display_data"
       }
      ],
      "source": [
       "sns.barplot(y='model', x='count', data=car_model)\n",
       "plt.xlabel('Number of cars')\n",
       "plt.ylabel('Model name')"
      ]
     },
     {
      "attachments": {},
      "cell_type": "markdown",
      "metadata": {},
      "source": [
       "On a beaucoup de model mais les nombres devoiture par modeles sont peu élevé\n",
       "on va donc regarder les 20 marques les plus vendus"
      ]
     },
     {
      "cell_type": "code",
      "execution_count": 16,
      "metadata": {},
      "outputs": [
       {
        "data": {
         "text/html": [
          "<div>\n",
          "<style scoped>\n",
          "    .dataframe tbody tr th:only-of-type {\n",
          "        vertical-align: middle;\n",
          "    }\n",
          "\n",
          "    .dataframe tbody tr th {\n",
          "        vertical-align: top;\n",
          "    }\n",
          "\n",
          "    .dataframe thead th {\n",
          "        text-align: right;\n",
          "    }\n",
          "</style>\n",
          "<table border=\"1\" class=\"dataframe\">\n",
          "  <thead>\n",
          "    <tr style=\"text-align: right;\">\n",
          "      <th></th>\n",
          "      <th>model</th>\n",
          "      <th>count</th>\n",
          "    </tr>\n",
          "  </thead>\n",
          "  <tbody>\n",
          "    <tr>\n",
          "      <th>0</th>\n",
          "      <td>PEUGEOT</td>\n",
          "      <td>7</td>\n",
          "    </tr>\n",
          "    <tr>\n",
          "      <th>1</th>\n",
          "      <td>CITROEN</td>\n",
          "      <td>5</td>\n",
          "    </tr>\n",
          "    <tr>\n",
          "      <th>2</th>\n",
          "      <td>RENAULT</td>\n",
          "      <td>3</td>\n",
          "    </tr>\n",
          "    <tr>\n",
          "      <th>3</th>\n",
          "      <td>MINI</td>\n",
          "      <td>2</td>\n",
          "    </tr>\n",
          "    <tr>\n",
          "      <th>4</th>\n",
          "      <td>MERCEDES</td>\n",
          "      <td>1</td>\n",
          "    </tr>\n",
          "    <tr>\n",
          "      <th>5</th>\n",
          "      <td>BMW</td>\n",
          "      <td>1</td>\n",
          "    </tr>\n",
          "    <tr>\n",
          "      <th>6</th>\n",
          "      <td>AUDI</td>\n",
          "      <td>1</td>\n",
          "    </tr>\n",
          "  </tbody>\n",
          "</table>\n",
          "</div>"
         ],
         "text/plain": [
          "      model  count\n",
          "0   PEUGEOT      7\n",
          "1   CITROEN      5\n",
          "2   RENAULT      3\n",
          "3      MINI      2\n",
          "4  MERCEDES      1\n",
          "5       BMW      1\n",
          "6      AUDI      1"
         ]
        },
        "execution_count": 16,
        "metadata": {},
        "output_type": "execute_result"
       }
      ],
      "source": [
       "marques = car_model.model.str.strip().str.split().str[0].value_counts().reset_index().head(20)\n",
       "marques"
      ]
     },
     {
      "cell_type": "code",
      "execution_count": 17,
      "metadata": {},
      "outputs": [
       {
        "data": {
         "text/plain": [
          "Text(0, 0.5, 'Model name')"
         ]
        },
        "execution_count": 17,
        "metadata": {},
        "output_type": "execute_result"
       },
       {
        "data": {
         "image/png": "[encoded data removed]",
         "text/plain": [
          "<Figure size 640x480 with 1 Axes>"
         ]
        },
        "metadata": {},
        "output_type": "display_data"
       }
      ],
      "source": [
       "sns.barplot(y='count', x='model', data=marques)\n",
       "plt.xlabel('Number of cars')\n",
       "plt.ylabel('Model name')"
      ]
     },
     {
      "attachments": {},
      "cell_type": "markdown",
      "metadata": {},
      "source": [
       "La c'est plus parlant et on peut dire que les français aiment bien les peugeots."
      ]
     },
     {
      "attachments": {},
      "cell_type": "markdown",
      "metadata": {},
      "source": [
       "Maintenant regardant du coté des prix."
      ]
     },
     {
      "cell_type": "code",
      "execution_count": 18,
      "metadata": {},
      "outputs": [],
      "source": [
       "lacentral_df.price = lacentral_df.price.str.strip().str.extract(r'([0-9 ]+)')[0].str.replace(' ', '').astype('int')\n",
       "lacentral_df.price = lacentral_df[lacentral_df.price < 200000]['price']"
      ]
     },
     {
      "cell_type": "code",
      "execution_count": 19,
      "metadata": {},
      "outputs": [
       {
        "data": {
         "text/plain": [
          "Text(0, 0.5, 'Frequency')"
         ]
        },
        "execution_count": 19,
        "metadata": {},
        "output_type": "execute_result"
       },
       {
        "data": {
         "image/png": "[encoded data removed]",
         "text/plain": [
          "<Figure size 640x480 with 1 Axes>"
         ]
        },
        "metadata": {},
        "output_type": "display_data"
       }
      ],
      "source": [
       "car_price = lacentral_df.price\n",
       "car_price.hist(bins=100)\n",
       "plt.xlabel('Price (€)')\n",
       "plt.ylabel('Frequency')"
      ]
     },
     {
      "attachments": {},
      "cell_type": "markdown",
      "metadata": {},
      "source": [
       "Regardons la puissance"
      ]
     },
     {
      "cell_type": "code",
      "execution_count": 20,
      "metadata": {},
      "outputs": [
       {
        "data": {
         "text/plain": [
          "<Axes: xlabel='horsepower', ylabel='Count'>"
         ]
        },
        "execution_count": 20,
        "metadata": {},
        "output_type": "execute_result"
       },
       {
        "data": {
         "image/png": "[encoded data removed]",
         "text/plain": [
          "<Figure size 640x480 with 1 Axes>"
         ]
        },
        "metadata": {},
        "output_type": "display_data"
       }
      ],
      "source": [
       "lacentral_df.horsepower = lacentral_df[lacentral_df.horsepower < 700]['horsepower']\n",
       "sns.histplot(data=lacentral_df, x=\"horsepower\", kde=True)"
      ]
     },
     {
      "attachments": {},
      "cell_type": "markdown",
      "metadata": {},
      "source": [
       "On peut maintenant regarder par rapport à la date de la mise en circulation"
      ]
     },
     {
      "cell_type": "code",
      "execution_count": 21,
      "metadata": {},
      "outputs": [
       {
        "data": {
         "text/plain": [
          "(array([ 0,  1,  2,  3,  4,  5,  6,  7,  8,  9, 10, 11, 12, 13, 14, 15, 16]),\n",
          " [Text(0, 0, '2003'),\n",
          "  Text(1, 0, '2009'),\n",
          "  Text(2, 0, '2010'),\n",
          "  Text(3, 0, '2011'),\n",
          "  Text(4, 0, '2012'),\n",
          "  Text(5, 0, '2013'),\n",
          "  Text(6, 0, '2014'),\n",
          "  Text(7, 0, '2015'),\n",
          "  Text(8, 0, '2016'),\n",
          "  Text(9, 0, '2017'),\n",
          "  Text(10, 0, '2018'),\n",
          "  Text(11, 0, '2019'),\n",
          "  Text(12, 0, '2020'),\n",
          "  Text(13, 0, '2021'),\n",
          "  Text(14, 0, '2022'),\n",
          "  Text(15, 0, '2023'),\n",
          "  Text(16, 0, '2024')])"
         ]
        },
        "execution_count": 21,
        "metadata": {},
        "output_type": "execute_result"
       },
       {
        "data": {
         "image/png": "[encoded data removed]",
         "text/plain": [
          "<Figure size 640x480 with 1 Axes>"
         ]
        },
        "metadata": {},
        "output_type": "display_data"
       }
      ],
      "source": [
       "sns.barplot(x='year', y='count', data=lacentral_df['year'].value_counts().reset_index().head(20))\n",
       "plt.xlabel('Année')\n",
       "plt.ylabel('Nombre de voiture')\n",
       "plt.xticks(rotation=45)"
      ]
     },
     {
      "cell_type": "code",
      "execution_count": 22,
      "metadata": {},
      "outputs": [],
      "source": [
       "lacentral_df.kilometers = lacentral_df.kilometers.str.strip().str.extract(r'([0-9 ]+)')[0].str.replace(' ', '').astype('int')"
      ]
     },
     {
      "cell_type": "code",
      "execution_count": 23,
      "metadata": {},
      "outputs": [],
      "source": [
       "kilometers = lacentral_df[lacentral_df.kilometers < 350000]['kilometers']"
      ]
     },
     {
      "cell_type": "code",
      "execution_count": 24,
      "metadata": {},
      "outputs": [
       {
        "data": {
         "text/plain": [
          "<Axes: xlabel='kilometers', ylabel='Count'>"
         ]
        },
        "execution_count": 24,
        "metadata": {},
        "output_type": "execute_result"
       },
       {
        "data": {
         "image/png": "[encoded data removed]",
         "text/plain": [
          "<Figure size 640x480 with 1 Axes>"
         ]
        },
        "metadata": {},
        "output_type": "display_data"
       }
      ],
      "source": [
       "sns.histplot(data=kilometers, kde=True)"
      ]
     },
     {
      "cell_type": "code",
      "execution_count": 25,
      "metadata": {},
      "outputs": [
       {
        "data": {
         "text/plain": [
          "Text(0, 0.5, 'Frequency')"
         ]
        },
        "execution_count": 25,
        "metadata": {},
        "output_type": "execute_result"
       },
       {
        "data": {
         "image/png": "[encoded data removed]",
         "text/plain": [
          "<Figure size 640x480 with 1 Axes>"
         ]
        },
        "metadata": {},
        "output_type": "display_data"
       }
      ],
      "source": [
       "lacentral_df['cylinder'] = lacentral_df[lacentral_df['cylinder'] < 8]['cylinder']\n",
       "car_cylinder = lacentral_df.cylinder\n",
       "car_cylinder.hist(bins=100)\n",
       "plt.xlabel('Cylinder')\n",
       "plt.ylabel('Frequency')"
      ]
     },
     {
      "attachments": {},
      "cell_type": "markdown",
      "metadata": {},
      "source": [
       "On peut regarder aussi le type du carburant"
      ]
     },
     {
      "cell_type": "code",
      "execution_count": 26,
      "metadata": {},
      "outputs": [
       {
        "data": {
         "text/html": [
          "<div>\n",
          "<style scoped>\n",
          "    .dataframe tbody tr th:only-of-type {\n",
          "        vertical-align: middle;\n",
          "    }\n",
          "\n",
          "    .dataframe tbody tr th {\n",
          "        vertical-align: top;\n",
          "    }\n",
          "\n",
          "    .dataframe thead th {\n",
          "        text-align: right;\n",
          "    }\n",
          "</style>\n",
          "<table border=\"1\" class=\"dataframe\">\n",
          "  <thead>\n",
          "    <tr style=\"text-align: right;\">\n",
          "      <th></th>\n",
          "      <th>energy</th>\n",
          "      <th>count</th>\n",
          "    </tr>\n",
          "  </thead>\n",
          "  <tbody>\n",
          "    <tr>\n",
          "      <th>0</th>\n",
          "      <td>Essence</td>\n",
          "      <td>533</td>\n",
          "    </tr>\n",
          "    <tr>\n",
          "      <th>1</th>\n",
          "      <td>Diesel</td>\n",
          "      <td>436</td>\n",
          "    </tr>\n",
          "    <tr>\n",
          "      <th>2</th>\n",
          "      <td>Hybrides</td>\n",
          "      <td>116</td>\n",
          "    </tr>\n",
          "    <tr>\n",
          "      <th>3</th>\n",
          "      <td>Électrique</td>\n",
          "      <td>42</td>\n",
          "    </tr>\n",
          "    <tr>\n",
          "      <th>4</th>\n",
          "      <td>Bicarburation essence / gpl</td>\n",
          "      <td>4</td>\n",
          "    </tr>\n",
          "    <tr>\n",
          "      <th>5</th>\n",
          "      <td>Bicarburation essence bioéthanol</td>\n",
          "      <td>2</td>\n",
          "    </tr>\n",
          "  </tbody>\n",
          "</table>\n",
          "</div>"
         ],
         "text/plain": [
          "                             energy  count\n",
          "0                           Essence    533\n",
          "1                            Diesel    436\n",
          "2                          Hybrides    116\n",
          "3                        Électrique     42\n",
          "4       Bicarburation essence / gpl      4\n",
          "5  Bicarburation essence bioéthanol      2"
         ]
        },
        "execution_count": 26,
        "metadata": {},
        "output_type": "execute_result"
       }
      ],
      "source": [
       "energies = lacentral_df['energy'].value_counts().reset_index()\n",
       "energies"
      ]
     },
     {
      "cell_type": "code",
      "execution_count": 27,
      "metadata": {},
      "outputs": [
       {
        "data": {
         "text/plain": [
          "(array([0, 1, 2, 3, 4, 5]),\n",
          " [Text(0, 0, 'Essence'),\n",
          "  Text(1, 0, 'Diesel'),\n",
          "  Text(2, 0, 'Hybrides'),\n",
          "  Text(3, 0, 'Électrique'),\n",
          "  Text(4, 0, 'Bicarburation essence / gpl'),\n",
          "  Text(5, 0, 'Bicarburation essence bioéthanol')])"
         ]
        },
        "execution_count": 27,
        "metadata": {},
        "output_type": "execute_result"
       },
       {
        "data": {
         "image/png": "[encoded data removed]",
         "text/plain": [
          "<Figure size 640x480 with 1 Axes>"
         ]
        },
        "metadata": {},
        "output_type": "display_data"
       }
      ],
      "source": [
       "sns.barplot(x='energy', y='count', data=energies)\n",
       "plt.ylabel('Number of cars')\n",
       "plt.xlabel('Carburant')\n",
       "plt.xticks(rotation=45)"
      ]
     }
    ],
    "metadata": {
     "kernelspec": {
      "display_name": "Python 3 (ipykernel)",
      "language": "python",
      "name": "python3"
     },
     "language_info": {
      "codemirror_mode": {
       "name": "ipython",
       "version": 3
      },
      "file_extension": ".py",
      "mimetype": "text/x-python",
      "name": "python",
      "nbconvert_exporter": "python",
      "pygments_lexer": "ipython3",
      "version": "3.10.4"
     },
     "vscode": {
      "interpreter": {
       "hash": "3ad933181bd8a04b432d3370b9dc3b0662ad032c4dfaa4e4f1596c548f763858"
      }
     }
    },
    "nbformat": 4,
    "nbformat_minor": 2
   }
   